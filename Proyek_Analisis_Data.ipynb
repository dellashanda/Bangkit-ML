{
  "cells": [
    {
      "cell_type": "markdown",
      "metadata": {
        "id": "H9wADwK78DCz"
      },
      "source": [
        "# Proyek Analisis Data: Bike Sharing Dataset\n",
        "- **Nama:** Della Shanda Anggrivani\n",
        "- **Email:** m200d4kx1458@bangkit.academy\n",
        "- **ID Dicoding:** della_shanda_anggrivani_yd4I"
      ]
    },
    {
      "cell_type": "markdown",
      "metadata": {
        "id": "eE0raob58DC0"
      },
      "source": [
        "## Menentukan Pertanyaan Bisnis"
      ]
    },
    {
      "cell_type": "markdown",
      "metadata": {
        "id": "GmQeQ5YF8DC0"
      },
      "source": [
        "- Apa hubungan antara cuaca dengan jumlah penyewaan sepeda?\n",
        "- Pada jam berapa terjadi penyewaan sepeda terbanyak?"
      ]
    },
    {
      "cell_type": "markdown",
      "metadata": {
        "id": "H-z4QGlO8DC1"
      },
      "source": [
        "## Import Semua Packages/Library yang Digunakan"
      ]
    },
    {
      "cell_type": "code",
      "execution_count": 1,
      "metadata": {
        "id": "FVYwaObI8DC1"
      },
      "outputs": [],
      "source": [
        "import pandas as pd\n",
        "import numpy as np\n",
        "import matplotlib.pyplot as plt\n",
        "import seaborn as sns\n",
        "\n",
        "# Mengatur agar visualisasi muncul di notebook\n",
        "%matplotlib inline"
      ]
    },
    {
      "cell_type": "markdown",
      "metadata": {
        "id": "h_Sh51Xy8DC1"
      },
      "source": [
        "## Data Wrangling"
      ]
    },
    {
      "cell_type": "markdown",
      "metadata": {
        "id": "sXU2GBYu8DC1"
      },
      "source": [
        "### Gathering Data"
      ]
    },
    {
      "cell_type": "code",
      "execution_count": 2,
      "metadata": {
        "id": "zjCBk1BI8DC1",
        "colab": {
          "base_uri": "https://localhost:8080/"
        },
        "outputId": "ba8e0e4a-0777-416e-ff4d-1d310a680355"
      },
      "outputs": [
        {
          "output_type": "stream",
          "name": "stdout",
          "text": [
            "Mounted at /content/drive\n"
          ]
        }
      ],
      "source": [
        "from google.colab import drive\n",
        "drive.mount('/content/drive')"
      ]
    },
    {
      "cell_type": "code",
      "source": [
        "# Mendefinisikan data day\n",
        "data_day = pd.read_csv('/content/drive/MyDrive/Bangkit-ML/day.csv')\n",
        "data_day.head()"
      ],
      "metadata": {
        "id": "iTCt2ICbIzn5",
        "colab": {
          "base_uri": "https://localhost:8080/",
          "height": 206
        },
        "outputId": "bdda9838-b38b-419b-bc1a-4a847366ba9a"
      },
      "execution_count": 3,
      "outputs": [
        {
          "output_type": "execute_result",
          "data": {
            "text/plain": [
              "   instant      dteday  season  yr  mnth  holiday  weekday  workingday  \\\n",
              "0        1  2011-01-01       1   0     1        0        6           0   \n",
              "1        2  2011-01-02       1   0     1        0        0           0   \n",
              "2        3  2011-01-03       1   0     1        0        1           1   \n",
              "3        4  2011-01-04       1   0     1        0        2           1   \n",
              "4        5  2011-01-05       1   0     1        0        3           1   \n",
              "\n",
              "   weathersit      temp     atemp       hum  windspeed  casual  registered  \\\n",
              "0           2  0.344167  0.363625  0.805833   0.160446     331         654   \n",
              "1           2  0.363478  0.353739  0.696087   0.248539     131         670   \n",
              "2           1  0.196364  0.189405  0.437273   0.248309     120        1229   \n",
              "3           1  0.200000  0.212122  0.590435   0.160296     108        1454   \n",
              "4           1  0.226957  0.229270  0.436957   0.186900      82        1518   \n",
              "\n",
              "    cnt  \n",
              "0   985  \n",
              "1   801  \n",
              "2  1349  \n",
              "3  1562  \n",
              "4  1600  "
            ],
            "text/html": [
              "\n",
              "  <div id=\"df-24c13fc3-5733-4e2e-9750-216b299a137b\" class=\"colab-df-container\">\n",
              "    <div>\n",
              "<style scoped>\n",
              "    .dataframe tbody tr th:only-of-type {\n",
              "        vertical-align: middle;\n",
              "    }\n",
              "\n",
              "    .dataframe tbody tr th {\n",
              "        vertical-align: top;\n",
              "    }\n",
              "\n",
              "    .dataframe thead th {\n",
              "        text-align: right;\n",
              "    }\n",
              "</style>\n",
              "<table border=\"1\" class=\"dataframe\">\n",
              "  <thead>\n",
              "    <tr style=\"text-align: right;\">\n",
              "      <th></th>\n",
              "      <th>instant</th>\n",
              "      <th>dteday</th>\n",
              "      <th>season</th>\n",
              "      <th>yr</th>\n",
              "      <th>mnth</th>\n",
              "      <th>holiday</th>\n",
              "      <th>weekday</th>\n",
              "      <th>workingday</th>\n",
              "      <th>weathersit</th>\n",
              "      <th>temp</th>\n",
              "      <th>atemp</th>\n",
              "      <th>hum</th>\n",
              "      <th>windspeed</th>\n",
              "      <th>casual</th>\n",
              "      <th>registered</th>\n",
              "      <th>cnt</th>\n",
              "    </tr>\n",
              "  </thead>\n",
              "  <tbody>\n",
              "    <tr>\n",
              "      <th>0</th>\n",
              "      <td>1</td>\n",
              "      <td>2011-01-01</td>\n",
              "      <td>1</td>\n",
              "      <td>0</td>\n",
              "      <td>1</td>\n",
              "      <td>0</td>\n",
              "      <td>6</td>\n",
              "      <td>0</td>\n",
              "      <td>2</td>\n",
              "      <td>0.344167</td>\n",
              "      <td>0.363625</td>\n",
              "      <td>0.805833</td>\n",
              "      <td>0.160446</td>\n",
              "      <td>331</td>\n",
              "      <td>654</td>\n",
              "      <td>985</td>\n",
              "    </tr>\n",
              "    <tr>\n",
              "      <th>1</th>\n",
              "      <td>2</td>\n",
              "      <td>2011-01-02</td>\n",
              "      <td>1</td>\n",
              "      <td>0</td>\n",
              "      <td>1</td>\n",
              "      <td>0</td>\n",
              "      <td>0</td>\n",
              "      <td>0</td>\n",
              "      <td>2</td>\n",
              "      <td>0.363478</td>\n",
              "      <td>0.353739</td>\n",
              "      <td>0.696087</td>\n",
              "      <td>0.248539</td>\n",
              "      <td>131</td>\n",
              "      <td>670</td>\n",
              "      <td>801</td>\n",
              "    </tr>\n",
              "    <tr>\n",
              "      <th>2</th>\n",
              "      <td>3</td>\n",
              "      <td>2011-01-03</td>\n",
              "      <td>1</td>\n",
              "      <td>0</td>\n",
              "      <td>1</td>\n",
              "      <td>0</td>\n",
              "      <td>1</td>\n",
              "      <td>1</td>\n",
              "      <td>1</td>\n",
              "      <td>0.196364</td>\n",
              "      <td>0.189405</td>\n",
              "      <td>0.437273</td>\n",
              "      <td>0.248309</td>\n",
              "      <td>120</td>\n",
              "      <td>1229</td>\n",
              "      <td>1349</td>\n",
              "    </tr>\n",
              "    <tr>\n",
              "      <th>3</th>\n",
              "      <td>4</td>\n",
              "      <td>2011-01-04</td>\n",
              "      <td>1</td>\n",
              "      <td>0</td>\n",
              "      <td>1</td>\n",
              "      <td>0</td>\n",
              "      <td>2</td>\n",
              "      <td>1</td>\n",
              "      <td>1</td>\n",
              "      <td>0.200000</td>\n",
              "      <td>0.212122</td>\n",
              "      <td>0.590435</td>\n",
              "      <td>0.160296</td>\n",
              "      <td>108</td>\n",
              "      <td>1454</td>\n",
              "      <td>1562</td>\n",
              "    </tr>\n",
              "    <tr>\n",
              "      <th>4</th>\n",
              "      <td>5</td>\n",
              "      <td>2011-01-05</td>\n",
              "      <td>1</td>\n",
              "      <td>0</td>\n",
              "      <td>1</td>\n",
              "      <td>0</td>\n",
              "      <td>3</td>\n",
              "      <td>1</td>\n",
              "      <td>1</td>\n",
              "      <td>0.226957</td>\n",
              "      <td>0.229270</td>\n",
              "      <td>0.436957</td>\n",
              "      <td>0.186900</td>\n",
              "      <td>82</td>\n",
              "      <td>1518</td>\n",
              "      <td>1600</td>\n",
              "    </tr>\n",
              "  </tbody>\n",
              "</table>\n",
              "</div>\n",
              "    <div class=\"colab-df-buttons\">\n",
              "\n",
              "  <div class=\"colab-df-container\">\n",
              "    <button class=\"colab-df-convert\" onclick=\"convertToInteractive('df-24c13fc3-5733-4e2e-9750-216b299a137b')\"\n",
              "            title=\"Convert this dataframe to an interactive table.\"\n",
              "            style=\"display:none;\">\n",
              "\n",
              "  <svg xmlns=\"http://www.w3.org/2000/svg\" height=\"24px\" viewBox=\"0 -960 960 960\">\n",
              "    <path d=\"M120-120v-720h720v720H120Zm60-500h600v-160H180v160Zm220 220h160v-160H400v160Zm0 220h160v-160H400v160ZM180-400h160v-160H180v160Zm440 0h160v-160H620v160ZM180-180h160v-160H180v160Zm440 0h160v-160H620v160Z\"/>\n",
              "  </svg>\n",
              "    </button>\n",
              "\n",
              "  <style>\n",
              "    .colab-df-container {\n",
              "      display:flex;\n",
              "      gap: 12px;\n",
              "    }\n",
              "\n",
              "    .colab-df-convert {\n",
              "      background-color: #E8F0FE;\n",
              "      border: none;\n",
              "      border-radius: 50%;\n",
              "      cursor: pointer;\n",
              "      display: none;\n",
              "      fill: #1967D2;\n",
              "      height: 32px;\n",
              "      padding: 0 0 0 0;\n",
              "      width: 32px;\n",
              "    }\n",
              "\n",
              "    .colab-df-convert:hover {\n",
              "      background-color: #E2EBFA;\n",
              "      box-shadow: 0px 1px 2px rgba(60, 64, 67, 0.3), 0px 1px 3px 1px rgba(60, 64, 67, 0.15);\n",
              "      fill: #174EA6;\n",
              "    }\n",
              "\n",
              "    .colab-df-buttons div {\n",
              "      margin-bottom: 4px;\n",
              "    }\n",
              "\n",
              "    [theme=dark] .colab-df-convert {\n",
              "      background-color: #3B4455;\n",
              "      fill: #D2E3FC;\n",
              "    }\n",
              "\n",
              "    [theme=dark] .colab-df-convert:hover {\n",
              "      background-color: #434B5C;\n",
              "      box-shadow: 0px 1px 3px 1px rgba(0, 0, 0, 0.15);\n",
              "      filter: drop-shadow(0px 1px 2px rgba(0, 0, 0, 0.3));\n",
              "      fill: #FFFFFF;\n",
              "    }\n",
              "  </style>\n",
              "\n",
              "    <script>\n",
              "      const buttonEl =\n",
              "        document.querySelector('#df-24c13fc3-5733-4e2e-9750-216b299a137b button.colab-df-convert');\n",
              "      buttonEl.style.display =\n",
              "        google.colab.kernel.accessAllowed ? 'block' : 'none';\n",
              "\n",
              "      async function convertToInteractive(key) {\n",
              "        const element = document.querySelector('#df-24c13fc3-5733-4e2e-9750-216b299a137b');\n",
              "        const dataTable =\n",
              "          await google.colab.kernel.invokeFunction('convertToInteractive',\n",
              "                                                    [key], {});\n",
              "        if (!dataTable) return;\n",
              "\n",
              "        const docLinkHtml = 'Like what you see? Visit the ' +\n",
              "          '<a target=\"_blank\" href=https://colab.research.google.com/notebooks/data_table.ipynb>data table notebook</a>'\n",
              "          + ' to learn more about interactive tables.';\n",
              "        element.innerHTML = '';\n",
              "        dataTable['output_type'] = 'display_data';\n",
              "        await google.colab.output.renderOutput(dataTable, element);\n",
              "        const docLink = document.createElement('div');\n",
              "        docLink.innerHTML = docLinkHtml;\n",
              "        element.appendChild(docLink);\n",
              "      }\n",
              "    </script>\n",
              "  </div>\n",
              "\n",
              "\n",
              "<div id=\"df-5aa2dd4c-1dcf-4c0e-8af9-589f68af8a4a\">\n",
              "  <button class=\"colab-df-quickchart\" onclick=\"quickchart('df-5aa2dd4c-1dcf-4c0e-8af9-589f68af8a4a')\"\n",
              "            title=\"Suggest charts\"\n",
              "            style=\"display:none;\">\n",
              "\n",
              "<svg xmlns=\"http://www.w3.org/2000/svg\" height=\"24px\"viewBox=\"0 0 24 24\"\n",
              "     width=\"24px\">\n",
              "    <g>\n",
              "        <path d=\"M19 3H5c-1.1 0-2 .9-2 2v14c0 1.1.9 2 2 2h14c1.1 0 2-.9 2-2V5c0-1.1-.9-2-2-2zM9 17H7v-7h2v7zm4 0h-2V7h2v10zm4 0h-2v-4h2v4z\"/>\n",
              "    </g>\n",
              "</svg>\n",
              "  </button>\n",
              "\n",
              "<style>\n",
              "  .colab-df-quickchart {\n",
              "      --bg-color: #E8F0FE;\n",
              "      --fill-color: #1967D2;\n",
              "      --hover-bg-color: #E2EBFA;\n",
              "      --hover-fill-color: #174EA6;\n",
              "      --disabled-fill-color: #AAA;\n",
              "      --disabled-bg-color: #DDD;\n",
              "  }\n",
              "\n",
              "  [theme=dark] .colab-df-quickchart {\n",
              "      --bg-color: #3B4455;\n",
              "      --fill-color: #D2E3FC;\n",
              "      --hover-bg-color: #434B5C;\n",
              "      --hover-fill-color: #FFFFFF;\n",
              "      --disabled-bg-color: #3B4455;\n",
              "      --disabled-fill-color: #666;\n",
              "  }\n",
              "\n",
              "  .colab-df-quickchart {\n",
              "    background-color: var(--bg-color);\n",
              "    border: none;\n",
              "    border-radius: 50%;\n",
              "    cursor: pointer;\n",
              "    display: none;\n",
              "    fill: var(--fill-color);\n",
              "    height: 32px;\n",
              "    padding: 0;\n",
              "    width: 32px;\n",
              "  }\n",
              "\n",
              "  .colab-df-quickchart:hover {\n",
              "    background-color: var(--hover-bg-color);\n",
              "    box-shadow: 0 1px 2px rgba(60, 64, 67, 0.3), 0 1px 3px 1px rgba(60, 64, 67, 0.15);\n",
              "    fill: var(--button-hover-fill-color);\n",
              "  }\n",
              "\n",
              "  .colab-df-quickchart-complete:disabled,\n",
              "  .colab-df-quickchart-complete:disabled:hover {\n",
              "    background-color: var(--disabled-bg-color);\n",
              "    fill: var(--disabled-fill-color);\n",
              "    box-shadow: none;\n",
              "  }\n",
              "\n",
              "  .colab-df-spinner {\n",
              "    border: 2px solid var(--fill-color);\n",
              "    border-color: transparent;\n",
              "    border-bottom-color: var(--fill-color);\n",
              "    animation:\n",
              "      spin 1s steps(1) infinite;\n",
              "  }\n",
              "\n",
              "  @keyframes spin {\n",
              "    0% {\n",
              "      border-color: transparent;\n",
              "      border-bottom-color: var(--fill-color);\n",
              "      border-left-color: var(--fill-color);\n",
              "    }\n",
              "    20% {\n",
              "      border-color: transparent;\n",
              "      border-left-color: var(--fill-color);\n",
              "      border-top-color: var(--fill-color);\n",
              "    }\n",
              "    30% {\n",
              "      border-color: transparent;\n",
              "      border-left-color: var(--fill-color);\n",
              "      border-top-color: var(--fill-color);\n",
              "      border-right-color: var(--fill-color);\n",
              "    }\n",
              "    40% {\n",
              "      border-color: transparent;\n",
              "      border-right-color: var(--fill-color);\n",
              "      border-top-color: var(--fill-color);\n",
              "    }\n",
              "    60% {\n",
              "      border-color: transparent;\n",
              "      border-right-color: var(--fill-color);\n",
              "    }\n",
              "    80% {\n",
              "      border-color: transparent;\n",
              "      border-right-color: var(--fill-color);\n",
              "      border-bottom-color: var(--fill-color);\n",
              "    }\n",
              "    90% {\n",
              "      border-color: transparent;\n",
              "      border-bottom-color: var(--fill-color);\n",
              "    }\n",
              "  }\n",
              "</style>\n",
              "\n",
              "  <script>\n",
              "    async function quickchart(key) {\n",
              "      const quickchartButtonEl =\n",
              "        document.querySelector('#' + key + ' button');\n",
              "      quickchartButtonEl.disabled = true;  // To prevent multiple clicks.\n",
              "      quickchartButtonEl.classList.add('colab-df-spinner');\n",
              "      try {\n",
              "        const charts = await google.colab.kernel.invokeFunction(\n",
              "            'suggestCharts', [key], {});\n",
              "      } catch (error) {\n",
              "        console.error('Error during call to suggestCharts:', error);\n",
              "      }\n",
              "      quickchartButtonEl.classList.remove('colab-df-spinner');\n",
              "      quickchartButtonEl.classList.add('colab-df-quickchart-complete');\n",
              "    }\n",
              "    (() => {\n",
              "      let quickchartButtonEl =\n",
              "        document.querySelector('#df-5aa2dd4c-1dcf-4c0e-8af9-589f68af8a4a button');\n",
              "      quickchartButtonEl.style.display =\n",
              "        google.colab.kernel.accessAllowed ? 'block' : 'none';\n",
              "    })();\n",
              "  </script>\n",
              "</div>\n",
              "    </div>\n",
              "  </div>\n"
            ],
            "application/vnd.google.colaboratory.intrinsic+json": {
              "type": "dataframe",
              "variable_name": "data_day",
              "repr_error": "'str' object has no attribute 'empty'"
            }
          },
          "metadata": {},
          "execution_count": 3
        }
      ]
    },
    {
      "cell_type": "code",
      "source": [
        "# Mendefinisikan data hour\n",
        "data_hour = pd.read_csv('/content/drive/MyDrive/Bangkit-ML/hour.csv')\n",
        "data_hour.head()"
      ],
      "metadata": {
        "id": "Ei8bDE8ZI1yw",
        "colab": {
          "base_uri": "https://localhost:8080/",
          "height": 206
        },
        "outputId": "1e5c59d9-ff57-46e5-b648-af28e1376f64"
      },
      "execution_count": 4,
      "outputs": [
        {
          "output_type": "execute_result",
          "data": {
            "text/plain": [
              "   instant      dteday  season  yr  mnth  hr  holiday  weekday  workingday  \\\n",
              "0        1  2011-01-01       1   0     1   0        0        6           0   \n",
              "1        2  2011-01-01       1   0     1   1        0        6           0   \n",
              "2        3  2011-01-01       1   0     1   2        0        6           0   \n",
              "3        4  2011-01-01       1   0     1   3        0        6           0   \n",
              "4        5  2011-01-01       1   0     1   4        0        6           0   \n",
              "\n",
              "   weathersit  temp   atemp   hum  windspeed  casual  registered  cnt  \n",
              "0           1  0.24  0.2879  0.81        0.0       3          13   16  \n",
              "1           1  0.22  0.2727  0.80        0.0       8          32   40  \n",
              "2           1  0.22  0.2727  0.80        0.0       5          27   32  \n",
              "3           1  0.24  0.2879  0.75        0.0       3          10   13  \n",
              "4           1  0.24  0.2879  0.75        0.0       0           1    1  "
            ],
            "text/html": [
              "\n",
              "  <div id=\"df-8cb08c3a-49ee-4878-bcb2-6d978211c452\" class=\"colab-df-container\">\n",
              "    <div>\n",
              "<style scoped>\n",
              "    .dataframe tbody tr th:only-of-type {\n",
              "        vertical-align: middle;\n",
              "    }\n",
              "\n",
              "    .dataframe tbody tr th {\n",
              "        vertical-align: top;\n",
              "    }\n",
              "\n",
              "    .dataframe thead th {\n",
              "        text-align: right;\n",
              "    }\n",
              "</style>\n",
              "<table border=\"1\" class=\"dataframe\">\n",
              "  <thead>\n",
              "    <tr style=\"text-align: right;\">\n",
              "      <th></th>\n",
              "      <th>instant</th>\n",
              "      <th>dteday</th>\n",
              "      <th>season</th>\n",
              "      <th>yr</th>\n",
              "      <th>mnth</th>\n",
              "      <th>hr</th>\n",
              "      <th>holiday</th>\n",
              "      <th>weekday</th>\n",
              "      <th>workingday</th>\n",
              "      <th>weathersit</th>\n",
              "      <th>temp</th>\n",
              "      <th>atemp</th>\n",
              "      <th>hum</th>\n",
              "      <th>windspeed</th>\n",
              "      <th>casual</th>\n",
              "      <th>registered</th>\n",
              "      <th>cnt</th>\n",
              "    </tr>\n",
              "  </thead>\n",
              "  <tbody>\n",
              "    <tr>\n",
              "      <th>0</th>\n",
              "      <td>1</td>\n",
              "      <td>2011-01-01</td>\n",
              "      <td>1</td>\n",
              "      <td>0</td>\n",
              "      <td>1</td>\n",
              "      <td>0</td>\n",
              "      <td>0</td>\n",
              "      <td>6</td>\n",
              "      <td>0</td>\n",
              "      <td>1</td>\n",
              "      <td>0.24</td>\n",
              "      <td>0.2879</td>\n",
              "      <td>0.81</td>\n",
              "      <td>0.0</td>\n",
              "      <td>3</td>\n",
              "      <td>13</td>\n",
              "      <td>16</td>\n",
              "    </tr>\n",
              "    <tr>\n",
              "      <th>1</th>\n",
              "      <td>2</td>\n",
              "      <td>2011-01-01</td>\n",
              "      <td>1</td>\n",
              "      <td>0</td>\n",
              "      <td>1</td>\n",
              "      <td>1</td>\n",
              "      <td>0</td>\n",
              "      <td>6</td>\n",
              "      <td>0</td>\n",
              "      <td>1</td>\n",
              "      <td>0.22</td>\n",
              "      <td>0.2727</td>\n",
              "      <td>0.80</td>\n",
              "      <td>0.0</td>\n",
              "      <td>8</td>\n",
              "      <td>32</td>\n",
              "      <td>40</td>\n",
              "    </tr>\n",
              "    <tr>\n",
              "      <th>2</th>\n",
              "      <td>3</td>\n",
              "      <td>2011-01-01</td>\n",
              "      <td>1</td>\n",
              "      <td>0</td>\n",
              "      <td>1</td>\n",
              "      <td>2</td>\n",
              "      <td>0</td>\n",
              "      <td>6</td>\n",
              "      <td>0</td>\n",
              "      <td>1</td>\n",
              "      <td>0.22</td>\n",
              "      <td>0.2727</td>\n",
              "      <td>0.80</td>\n",
              "      <td>0.0</td>\n",
              "      <td>5</td>\n",
              "      <td>27</td>\n",
              "      <td>32</td>\n",
              "    </tr>\n",
              "    <tr>\n",
              "      <th>3</th>\n",
              "      <td>4</td>\n",
              "      <td>2011-01-01</td>\n",
              "      <td>1</td>\n",
              "      <td>0</td>\n",
              "      <td>1</td>\n",
              "      <td>3</td>\n",
              "      <td>0</td>\n",
              "      <td>6</td>\n",
              "      <td>0</td>\n",
              "      <td>1</td>\n",
              "      <td>0.24</td>\n",
              "      <td>0.2879</td>\n",
              "      <td>0.75</td>\n",
              "      <td>0.0</td>\n",
              "      <td>3</td>\n",
              "      <td>10</td>\n",
              "      <td>13</td>\n",
              "    </tr>\n",
              "    <tr>\n",
              "      <th>4</th>\n",
              "      <td>5</td>\n",
              "      <td>2011-01-01</td>\n",
              "      <td>1</td>\n",
              "      <td>0</td>\n",
              "      <td>1</td>\n",
              "      <td>4</td>\n",
              "      <td>0</td>\n",
              "      <td>6</td>\n",
              "      <td>0</td>\n",
              "      <td>1</td>\n",
              "      <td>0.24</td>\n",
              "      <td>0.2879</td>\n",
              "      <td>0.75</td>\n",
              "      <td>0.0</td>\n",
              "      <td>0</td>\n",
              "      <td>1</td>\n",
              "      <td>1</td>\n",
              "    </tr>\n",
              "  </tbody>\n",
              "</table>\n",
              "</div>\n",
              "    <div class=\"colab-df-buttons\">\n",
              "\n",
              "  <div class=\"colab-df-container\">\n",
              "    <button class=\"colab-df-convert\" onclick=\"convertToInteractive('df-8cb08c3a-49ee-4878-bcb2-6d978211c452')\"\n",
              "            title=\"Convert this dataframe to an interactive table.\"\n",
              "            style=\"display:none;\">\n",
              "\n",
              "  <svg xmlns=\"http://www.w3.org/2000/svg\" height=\"24px\" viewBox=\"0 -960 960 960\">\n",
              "    <path d=\"M120-120v-720h720v720H120Zm60-500h600v-160H180v160Zm220 220h160v-160H400v160Zm0 220h160v-160H400v160ZM180-400h160v-160H180v160Zm440 0h160v-160H620v160ZM180-180h160v-160H180v160Zm440 0h160v-160H620v160Z\"/>\n",
              "  </svg>\n",
              "    </button>\n",
              "\n",
              "  <style>\n",
              "    .colab-df-container {\n",
              "      display:flex;\n",
              "      gap: 12px;\n",
              "    }\n",
              "\n",
              "    .colab-df-convert {\n",
              "      background-color: #E8F0FE;\n",
              "      border: none;\n",
              "      border-radius: 50%;\n",
              "      cursor: pointer;\n",
              "      display: none;\n",
              "      fill: #1967D2;\n",
              "      height: 32px;\n",
              "      padding: 0 0 0 0;\n",
              "      width: 32px;\n",
              "    }\n",
              "\n",
              "    .colab-df-convert:hover {\n",
              "      background-color: #E2EBFA;\n",
              "      box-shadow: 0px 1px 2px rgba(60, 64, 67, 0.3), 0px 1px 3px 1px rgba(60, 64, 67, 0.15);\n",
              "      fill: #174EA6;\n",
              "    }\n",
              "\n",
              "    .colab-df-buttons div {\n",
              "      margin-bottom: 4px;\n",
              "    }\n",
              "\n",
              "    [theme=dark] .colab-df-convert {\n",
              "      background-color: #3B4455;\n",
              "      fill: #D2E3FC;\n",
              "    }\n",
              "\n",
              "    [theme=dark] .colab-df-convert:hover {\n",
              "      background-color: #434B5C;\n",
              "      box-shadow: 0px 1px 3px 1px rgba(0, 0, 0, 0.15);\n",
              "      filter: drop-shadow(0px 1px 2px rgba(0, 0, 0, 0.3));\n",
              "      fill: #FFFFFF;\n",
              "    }\n",
              "  </style>\n",
              "\n",
              "    <script>\n",
              "      const buttonEl =\n",
              "        document.querySelector('#df-8cb08c3a-49ee-4878-bcb2-6d978211c452 button.colab-df-convert');\n",
              "      buttonEl.style.display =\n",
              "        google.colab.kernel.accessAllowed ? 'block' : 'none';\n",
              "\n",
              "      async function convertToInteractive(key) {\n",
              "        const element = document.querySelector('#df-8cb08c3a-49ee-4878-bcb2-6d978211c452');\n",
              "        const dataTable =\n",
              "          await google.colab.kernel.invokeFunction('convertToInteractive',\n",
              "                                                    [key], {});\n",
              "        if (!dataTable) return;\n",
              "\n",
              "        const docLinkHtml = 'Like what you see? Visit the ' +\n",
              "          '<a target=\"_blank\" href=https://colab.research.google.com/notebooks/data_table.ipynb>data table notebook</a>'\n",
              "          + ' to learn more about interactive tables.';\n",
              "        element.innerHTML = '';\n",
              "        dataTable['output_type'] = 'display_data';\n",
              "        await google.colab.output.renderOutput(dataTable, element);\n",
              "        const docLink = document.createElement('div');\n",
              "        docLink.innerHTML = docLinkHtml;\n",
              "        element.appendChild(docLink);\n",
              "      }\n",
              "    </script>\n",
              "  </div>\n",
              "\n",
              "\n",
              "<div id=\"df-cb3e9dac-1a90-499e-9c5e-ce791c5df5a6\">\n",
              "  <button class=\"colab-df-quickchart\" onclick=\"quickchart('df-cb3e9dac-1a90-499e-9c5e-ce791c5df5a6')\"\n",
              "            title=\"Suggest charts\"\n",
              "            style=\"display:none;\">\n",
              "\n",
              "<svg xmlns=\"http://www.w3.org/2000/svg\" height=\"24px\"viewBox=\"0 0 24 24\"\n",
              "     width=\"24px\">\n",
              "    <g>\n",
              "        <path d=\"M19 3H5c-1.1 0-2 .9-2 2v14c0 1.1.9 2 2 2h14c1.1 0 2-.9 2-2V5c0-1.1-.9-2-2-2zM9 17H7v-7h2v7zm4 0h-2V7h2v10zm4 0h-2v-4h2v4z\"/>\n",
              "    </g>\n",
              "</svg>\n",
              "  </button>\n",
              "\n",
              "<style>\n",
              "  .colab-df-quickchart {\n",
              "      --bg-color: #E8F0FE;\n",
              "      --fill-color: #1967D2;\n",
              "      --hover-bg-color: #E2EBFA;\n",
              "      --hover-fill-color: #174EA6;\n",
              "      --disabled-fill-color: #AAA;\n",
              "      --disabled-bg-color: #DDD;\n",
              "  }\n",
              "\n",
              "  [theme=dark] .colab-df-quickchart {\n",
              "      --bg-color: #3B4455;\n",
              "      --fill-color: #D2E3FC;\n",
              "      --hover-bg-color: #434B5C;\n",
              "      --hover-fill-color: #FFFFFF;\n",
              "      --disabled-bg-color: #3B4455;\n",
              "      --disabled-fill-color: #666;\n",
              "  }\n",
              "\n",
              "  .colab-df-quickchart {\n",
              "    background-color: var(--bg-color);\n",
              "    border: none;\n",
              "    border-radius: 50%;\n",
              "    cursor: pointer;\n",
              "    display: none;\n",
              "    fill: var(--fill-color);\n",
              "    height: 32px;\n",
              "    padding: 0;\n",
              "    width: 32px;\n",
              "  }\n",
              "\n",
              "  .colab-df-quickchart:hover {\n",
              "    background-color: var(--hover-bg-color);\n",
              "    box-shadow: 0 1px 2px rgba(60, 64, 67, 0.3), 0 1px 3px 1px rgba(60, 64, 67, 0.15);\n",
              "    fill: var(--button-hover-fill-color);\n",
              "  }\n",
              "\n",
              "  .colab-df-quickchart-complete:disabled,\n",
              "  .colab-df-quickchart-complete:disabled:hover {\n",
              "    background-color: var(--disabled-bg-color);\n",
              "    fill: var(--disabled-fill-color);\n",
              "    box-shadow: none;\n",
              "  }\n",
              "\n",
              "  .colab-df-spinner {\n",
              "    border: 2px solid var(--fill-color);\n",
              "    border-color: transparent;\n",
              "    border-bottom-color: var(--fill-color);\n",
              "    animation:\n",
              "      spin 1s steps(1) infinite;\n",
              "  }\n",
              "\n",
              "  @keyframes spin {\n",
              "    0% {\n",
              "      border-color: transparent;\n",
              "      border-bottom-color: var(--fill-color);\n",
              "      border-left-color: var(--fill-color);\n",
              "    }\n",
              "    20% {\n",
              "      border-color: transparent;\n",
              "      border-left-color: var(--fill-color);\n",
              "      border-top-color: var(--fill-color);\n",
              "    }\n",
              "    30% {\n",
              "      border-color: transparent;\n",
              "      border-left-color: var(--fill-color);\n",
              "      border-top-color: var(--fill-color);\n",
              "      border-right-color: var(--fill-color);\n",
              "    }\n",
              "    40% {\n",
              "      border-color: transparent;\n",
              "      border-right-color: var(--fill-color);\n",
              "      border-top-color: var(--fill-color);\n",
              "    }\n",
              "    60% {\n",
              "      border-color: transparent;\n",
              "      border-right-color: var(--fill-color);\n",
              "    }\n",
              "    80% {\n",
              "      border-color: transparent;\n",
              "      border-right-color: var(--fill-color);\n",
              "      border-bottom-color: var(--fill-color);\n",
              "    }\n",
              "    90% {\n",
              "      border-color: transparent;\n",
              "      border-bottom-color: var(--fill-color);\n",
              "    }\n",
              "  }\n",
              "</style>\n",
              "\n",
              "  <script>\n",
              "    async function quickchart(key) {\n",
              "      const quickchartButtonEl =\n",
              "        document.querySelector('#' + key + ' button');\n",
              "      quickchartButtonEl.disabled = true;  // To prevent multiple clicks.\n",
              "      quickchartButtonEl.classList.add('colab-df-spinner');\n",
              "      try {\n",
              "        const charts = await google.colab.kernel.invokeFunction(\n",
              "            'suggestCharts', [key], {});\n",
              "      } catch (error) {\n",
              "        console.error('Error during call to suggestCharts:', error);\n",
              "      }\n",
              "      quickchartButtonEl.classList.remove('colab-df-spinner');\n",
              "      quickchartButtonEl.classList.add('colab-df-quickchart-complete');\n",
              "    }\n",
              "    (() => {\n",
              "      let quickchartButtonEl =\n",
              "        document.querySelector('#df-cb3e9dac-1a90-499e-9c5e-ce791c5df5a6 button');\n",
              "      quickchartButtonEl.style.display =\n",
              "        google.colab.kernel.accessAllowed ? 'block' : 'none';\n",
              "    })();\n",
              "  </script>\n",
              "</div>\n",
              "    </div>\n",
              "  </div>\n"
            ],
            "application/vnd.google.colaboratory.intrinsic+json": {
              "type": "dataframe",
              "variable_name": "data_hour",
              "repr_error": "'str' object has no attribute 'empty'"
            }
          },
          "metadata": {},
          "execution_count": 4
        }
      ]
    },
    {
      "cell_type": "markdown",
      "metadata": {
        "id": "FHSiqaZp8DC1"
      },
      "source": [
        "### Assessing Data"
      ]
    },
    {
      "cell_type": "markdown",
      "source": [
        "**Data Day**"
      ],
      "metadata": {
        "id": "63vZZ9Y_LbpY"
      }
    },
    {
      "cell_type": "code",
      "source": [
        "# Menilai dataset data_day untuk masalah kualitas data\n",
        "data_day.info(), data_day.describe()"
      ],
      "metadata": {
        "id": "ax-3tEjc9Cj1",
        "colab": {
          "base_uri": "https://localhost:8080/"
        },
        "outputId": "0e2126ed-1e15-4870-cb08-f6c23ee81a9e"
      },
      "execution_count": 5,
      "outputs": [
        {
          "output_type": "stream",
          "name": "stdout",
          "text": [
            "<class 'pandas.core.frame.DataFrame'>\n",
            "RangeIndex: 731 entries, 0 to 730\n",
            "Data columns (total 16 columns):\n",
            " #   Column      Non-Null Count  Dtype  \n",
            "---  ------      --------------  -----  \n",
            " 0   instant     731 non-null    int64  \n",
            " 1   dteday      731 non-null    object \n",
            " 2   season      731 non-null    int64  \n",
            " 3   yr          731 non-null    int64  \n",
            " 4   mnth        731 non-null    int64  \n",
            " 5   holiday     731 non-null    int64  \n",
            " 6   weekday     731 non-null    int64  \n",
            " 7   workingday  731 non-null    int64  \n",
            " 8   weathersit  731 non-null    int64  \n",
            " 9   temp        731 non-null    float64\n",
            " 10  atemp       731 non-null    float64\n",
            " 11  hum         731 non-null    float64\n",
            " 12  windspeed   731 non-null    float64\n",
            " 13  casual      731 non-null    int64  \n",
            " 14  registered  731 non-null    int64  \n",
            " 15  cnt         731 non-null    int64  \n",
            "dtypes: float64(4), int64(11), object(1)\n",
            "memory usage: 91.5+ KB\n"
          ]
        },
        {
          "output_type": "execute_result",
          "data": {
            "text/plain": [
              "(None,\n",
              "           instant      season          yr        mnth     holiday     weekday  \\\n",
              " count  731.000000  731.000000  731.000000  731.000000  731.000000  731.000000   \n",
              " mean   366.000000    2.496580    0.500684    6.519836    0.028728    2.997264   \n",
              " std    211.165812    1.110807    0.500342    3.451913    0.167155    2.004787   \n",
              " min      1.000000    1.000000    0.000000    1.000000    0.000000    0.000000   \n",
              " 25%    183.500000    2.000000    0.000000    4.000000    0.000000    1.000000   \n",
              " 50%    366.000000    3.000000    1.000000    7.000000    0.000000    3.000000   \n",
              " 75%    548.500000    3.000000    1.000000   10.000000    0.000000    5.000000   \n",
              " max    731.000000    4.000000    1.000000   12.000000    1.000000    6.000000   \n",
              " \n",
              "        workingday  weathersit        temp       atemp         hum   windspeed  \\\n",
              " count  731.000000  731.000000  731.000000  731.000000  731.000000  731.000000   \n",
              " mean     0.683995    1.395349    0.495385    0.474354    0.627894    0.190486   \n",
              " std      0.465233    0.544894    0.183051    0.162961    0.142429    0.077498   \n",
              " min      0.000000    1.000000    0.059130    0.079070    0.000000    0.022392   \n",
              " 25%      0.000000    1.000000    0.337083    0.337842    0.520000    0.134950   \n",
              " 50%      1.000000    1.000000    0.498333    0.486733    0.626667    0.180975   \n",
              " 75%      1.000000    2.000000    0.655417    0.608602    0.730209    0.233214   \n",
              " max      1.000000    3.000000    0.861667    0.840896    0.972500    0.507463   \n",
              " \n",
              "             casual   registered          cnt  \n",
              " count   731.000000   731.000000   731.000000  \n",
              " mean    848.176471  3656.172367  4504.348837  \n",
              " std     686.622488  1560.256377  1937.211452  \n",
              " min       2.000000    20.000000    22.000000  \n",
              " 25%     315.500000  2497.000000  3152.000000  \n",
              " 50%     713.000000  3662.000000  4548.000000  \n",
              " 75%    1096.000000  4776.500000  5956.000000  \n",
              " max    3410.000000  6946.000000  8714.000000  )"
            ]
          },
          "metadata": {},
          "execution_count": 5
        }
      ]
    },
    {
      "cell_type": "markdown",
      "source": [
        "Dataset data_day terdiri dari 731 entri dengan 16 kolom dan tidak memiliki nilai yang hilang. Tetapi tipe data untuk kolom dteday tidak sesuai, pada data di atas tipe datanya adalah object, sehingga perlu diubah menjadi datetime."
      ],
      "metadata": {
        "id": "W3Qe2kcOJfLY"
      }
    },
    {
      "cell_type": "code",
      "source": [
        "# Memeriksa duplikasi data\n",
        "print(\"Jumlah duplikasi: \", data_day.duplicated().sum())"
      ],
      "metadata": {
        "id": "77w67oofKKbZ",
        "colab": {
          "base_uri": "https://localhost:8080/"
        },
        "outputId": "c99c06bf-9d87-48f1-d9ee-d870f8cd213a"
      },
      "execution_count": 6,
      "outputs": [
        {
          "output_type": "stream",
          "name": "stdout",
          "text": [
            "Jumlah duplikasi:  0\n"
          ]
        }
      ]
    },
    {
      "cell_type": "markdown",
      "source": [
        "Berdasarkan data diatas, tidak ditemukan adanya data yang duplikat."
      ],
      "metadata": {
        "id": "Zk_RBvSiLE4q"
      }
    },
    {
      "cell_type": "markdown",
      "source": [
        "**Data Hour**"
      ],
      "metadata": {
        "id": "9r7QqKJ7Llgw"
      }
    },
    {
      "cell_type": "code",
      "source": [
        "# Menilai dataset data_hour untuk masalah kualitas data\n",
        "data_hour.info(), data_hour.describe()"
      ],
      "metadata": {
        "id": "zjPxFEjYLKbU",
        "colab": {
          "base_uri": "https://localhost:8080/"
        },
        "outputId": "1c55eede-2bcc-4c9f-df15-65e695272d9f"
      },
      "execution_count": 7,
      "outputs": [
        {
          "output_type": "stream",
          "name": "stdout",
          "text": [
            "<class 'pandas.core.frame.DataFrame'>\n",
            "RangeIndex: 17379 entries, 0 to 17378\n",
            "Data columns (total 17 columns):\n",
            " #   Column      Non-Null Count  Dtype  \n",
            "---  ------      --------------  -----  \n",
            " 0   instant     17379 non-null  int64  \n",
            " 1   dteday      17379 non-null  object \n",
            " 2   season      17379 non-null  int64  \n",
            " 3   yr          17379 non-null  int64  \n",
            " 4   mnth        17379 non-null  int64  \n",
            " 5   hr          17379 non-null  int64  \n",
            " 6   holiday     17379 non-null  int64  \n",
            " 7   weekday     17379 non-null  int64  \n",
            " 8   workingday  17379 non-null  int64  \n",
            " 9   weathersit  17379 non-null  int64  \n",
            " 10  temp        17379 non-null  float64\n",
            " 11  atemp       17379 non-null  float64\n",
            " 12  hum         17379 non-null  float64\n",
            " 13  windspeed   17379 non-null  float64\n",
            " 14  casual      17379 non-null  int64  \n",
            " 15  registered  17379 non-null  int64  \n",
            " 16  cnt         17379 non-null  int64  \n",
            "dtypes: float64(4), int64(12), object(1)\n",
            "memory usage: 2.3+ MB\n"
          ]
        },
        {
          "output_type": "execute_result",
          "data": {
            "text/plain": [
              "(None,\n",
              "           instant        season            yr          mnth            hr  \\\n",
              " count  17379.0000  17379.000000  17379.000000  17379.000000  17379.000000   \n",
              " mean    8690.0000      2.501640      0.502561      6.537775     11.546752   \n",
              " std     5017.0295      1.106918      0.500008      3.438776      6.914405   \n",
              " min        1.0000      1.000000      0.000000      1.000000      0.000000   \n",
              " 25%     4345.5000      2.000000      0.000000      4.000000      6.000000   \n",
              " 50%     8690.0000      3.000000      1.000000      7.000000     12.000000   \n",
              " 75%    13034.5000      3.000000      1.000000     10.000000     18.000000   \n",
              " max    17379.0000      4.000000      1.000000     12.000000     23.000000   \n",
              " \n",
              "             holiday       weekday    workingday    weathersit          temp  \\\n",
              " count  17379.000000  17379.000000  17379.000000  17379.000000  17379.000000   \n",
              " mean       0.028770      3.003683      0.682721      1.425283      0.496987   \n",
              " std        0.167165      2.005771      0.465431      0.639357      0.192556   \n",
              " min        0.000000      0.000000      0.000000      1.000000      0.020000   \n",
              " 25%        0.000000      1.000000      0.000000      1.000000      0.340000   \n",
              " 50%        0.000000      3.000000      1.000000      1.000000      0.500000   \n",
              " 75%        0.000000      5.000000      1.000000      2.000000      0.660000   \n",
              " max        1.000000      6.000000      1.000000      4.000000      1.000000   \n",
              " \n",
              "               atemp           hum     windspeed        casual    registered  \\\n",
              " count  17379.000000  17379.000000  17379.000000  17379.000000  17379.000000   \n",
              " mean       0.475775      0.627229      0.190098     35.676218    153.786869   \n",
              " std        0.171850      0.192930      0.122340     49.305030    151.357286   \n",
              " min        0.000000      0.000000      0.000000      0.000000      0.000000   \n",
              " 25%        0.333300      0.480000      0.104500      4.000000     34.000000   \n",
              " 50%        0.484800      0.630000      0.194000     17.000000    115.000000   \n",
              " 75%        0.621200      0.780000      0.253700     48.000000    220.000000   \n",
              " max        1.000000      1.000000      0.850700    367.000000    886.000000   \n",
              " \n",
              "                 cnt  \n",
              " count  17379.000000  \n",
              " mean     189.463088  \n",
              " std      181.387599  \n",
              " min        1.000000  \n",
              " 25%       40.000000  \n",
              " 50%      142.000000  \n",
              " 75%      281.000000  \n",
              " max      977.000000  )"
            ]
          },
          "metadata": {},
          "execution_count": 7
        }
      ]
    },
    {
      "cell_type": "markdown",
      "source": [
        "Dataset data_day terdiri dari 17.379 entri dengan 17 kolom dan tidak memiliki nilai yang hilang. Tetapi tipe data untuk kolom dteday tidak sesuai, pada data di atas tipe datanya adalah object, sehingga perlu diubah menjadi datetime."
      ],
      "metadata": {
        "id": "1nfnQBvDLvK2"
      }
    },
    {
      "cell_type": "code",
      "source": [
        "# Memeriksa duplikasi data\n",
        "print(\"Jumlah duplikasi: \", data_hour.duplicated().sum())"
      ],
      "metadata": {
        "id": "2ZPfDTnHMIZa",
        "colab": {
          "base_uri": "https://localhost:8080/"
        },
        "outputId": "33e6b1a6-59ae-48b3-beb3-9ba88a11090e"
      },
      "execution_count": 8,
      "outputs": [
        {
          "output_type": "stream",
          "name": "stdout",
          "text": [
            "Jumlah duplikasi:  0\n"
          ]
        }
      ]
    },
    {
      "cell_type": "markdown",
      "source": [
        "Berdasarkan data diatas, tidak ditemukan adanya data yang duplikat."
      ],
      "metadata": {
        "id": "7kfJiacHMSKj"
      }
    },
    {
      "cell_type": "markdown",
      "metadata": {
        "id": "EhN5R4hr8DC1"
      },
      "source": [
        "### Cleaning Data"
      ]
    },
    {
      "cell_type": "code",
      "source": [
        "# Mengubah tipe data kolom 'dteday' dari object ke datetime\n",
        "data_day['dteday'] = pd.to_datetime(data_day['dteday'])\n",
        "data_hour['dteday'] = pd.to_datetime(data_hour['dteday'])"
      ],
      "metadata": {
        "id": "jVnYpprE9Evz"
      },
      "execution_count": 9,
      "outputs": []
    },
    {
      "cell_type": "code",
      "source": [
        "# Mengecek tipe data dari data_day dan data_hour\n",
        "data_day.info(), data_hour.info()"
      ],
      "metadata": {
        "id": "W4m06itUMiWe",
        "colab": {
          "base_uri": "https://localhost:8080/"
        },
        "outputId": "ac7b061b-3c1d-4ea5-b02f-0fd53b6a3410"
      },
      "execution_count": 10,
      "outputs": [
        {
          "output_type": "stream",
          "name": "stdout",
          "text": [
            "<class 'pandas.core.frame.DataFrame'>\n",
            "RangeIndex: 731 entries, 0 to 730\n",
            "Data columns (total 16 columns):\n",
            " #   Column      Non-Null Count  Dtype         \n",
            "---  ------      --------------  -----         \n",
            " 0   instant     731 non-null    int64         \n",
            " 1   dteday      731 non-null    datetime64[ns]\n",
            " 2   season      731 non-null    int64         \n",
            " 3   yr          731 non-null    int64         \n",
            " 4   mnth        731 non-null    int64         \n",
            " 5   holiday     731 non-null    int64         \n",
            " 6   weekday     731 non-null    int64         \n",
            " 7   workingday  731 non-null    int64         \n",
            " 8   weathersit  731 non-null    int64         \n",
            " 9   temp        731 non-null    float64       \n",
            " 10  atemp       731 non-null    float64       \n",
            " 11  hum         731 non-null    float64       \n",
            " 12  windspeed   731 non-null    float64       \n",
            " 13  casual      731 non-null    int64         \n",
            " 14  registered  731 non-null    int64         \n",
            " 15  cnt         731 non-null    int64         \n",
            "dtypes: datetime64[ns](1), float64(4), int64(11)\n",
            "memory usage: 91.5 KB\n",
            "<class 'pandas.core.frame.DataFrame'>\n",
            "RangeIndex: 17379 entries, 0 to 17378\n",
            "Data columns (total 17 columns):\n",
            " #   Column      Non-Null Count  Dtype         \n",
            "---  ------      --------------  -----         \n",
            " 0   instant     17379 non-null  int64         \n",
            " 1   dteday      17379 non-null  datetime64[ns]\n",
            " 2   season      17379 non-null  int64         \n",
            " 3   yr          17379 non-null  int64         \n",
            " 4   mnth        17379 non-null  int64         \n",
            " 5   hr          17379 non-null  int64         \n",
            " 6   holiday     17379 non-null  int64         \n",
            " 7   weekday     17379 non-null  int64         \n",
            " 8   workingday  17379 non-null  int64         \n",
            " 9   weathersit  17379 non-null  int64         \n",
            " 10  temp        17379 non-null  float64       \n",
            " 11  atemp       17379 non-null  float64       \n",
            " 12  hum         17379 non-null  float64       \n",
            " 13  windspeed   17379 non-null  float64       \n",
            " 14  casual      17379 non-null  int64         \n",
            " 15  registered  17379 non-null  int64         \n",
            " 16  cnt         17379 non-null  int64         \n",
            "dtypes: datetime64[ns](1), float64(4), int64(12)\n",
            "memory usage: 2.3 MB\n"
          ]
        },
        {
          "output_type": "execute_result",
          "data": {
            "text/plain": [
              "(None, None)"
            ]
          },
          "metadata": {},
          "execution_count": 10
        }
      ]
    },
    {
      "cell_type": "markdown",
      "source": [
        "Berdasarkan info diatas dapat dilihat bahwa tipe data dari kolom dteday dari data_day dan data_hour telah berubah dari object menjadi datetime."
      ],
      "metadata": {
        "id": "ZAooFujnNI14"
      }
    },
    {
      "cell_type": "markdown",
      "metadata": {
        "id": "gp-Y6wU38DC1"
      },
      "source": [
        "## Exploratory Data Analysis (EDA)"
      ]
    },
    {
      "cell_type": "markdown",
      "metadata": {
        "id": "MW7WF2kr8DC1"
      },
      "source": [
        "### Explore ..."
      ]
    },
    {
      "cell_type": "code",
      "source": [
        "# Statistik Deskriptif untuk Cuaca dan Jumlah Penyewaan Sepeda\n",
        "weather_stats = data_day.groupby('weathersit')['cnt'].describe()\n",
        "print(weather_stats)"
      ],
      "metadata": {
        "id": "TXLT9ydgPgQR",
        "colab": {
          "base_uri": "https://localhost:8080/"
        },
        "outputId": "bc50bb0c-3780-4fc4-ec7d-dcc76450bcc1"
      },
      "execution_count": 11,
      "outputs": [
        {
          "output_type": "stream",
          "name": "stdout",
          "text": [
            "            count         mean          std    min     25%     50%     75%  \\\n",
            "weathersit                                                                   \n",
            "1           463.0  4876.786177  1879.483989  431.0  3636.5  4844.0  6458.5   \n",
            "2           247.0  4035.862348  1809.109918  605.0  2674.5  4040.0  5257.5   \n",
            "3            21.0  1803.285714  1240.284449   22.0   705.0  1817.0  2424.0   \n",
            "\n",
            "               max  \n",
            "weathersit          \n",
            "1           8714.0  \n",
            "2           8362.0  \n",
            "3           4639.0  \n"
          ]
        }
      ]
    },
    {
      "cell_type": "markdown",
      "source": [
        "Berdasarkan statistik deskriptif:\n",
        "\n",
        "Hubungan antara Cuaca dan Jumlah Penyewaan Sepeda:\n",
        "\n",
        "- Cuaca Cerah (1): Rata-rata jumlah penyewaan sepeda adalah sekitar 4876 dengan rentang yang luas (standar deviasi: 1879), menunjukkan hari-hari dengan cuaca cerah cenderung memiliki jumlah penyewaan yang tinggi.\n",
        "\n",
        "- Cuaca Mendung (2): Rata-rata jumlah penyewaan sepeda turun menjadi sekitar 4035 dengan standar deviasi 1809, menunjukkan sedikit penurunan jumlah penyewaan dibandingkan cuaca cerah.\n",
        "\n",
        "- Cuaca Hujan Ringan (3): Rata-rata jumlah penyewaan sepeda turun drastis menjadi sekitar 1803 dengan standar deviasi 1240, menunjukkan jumlah penyewaan yang jauh lebih rendah pada hari-hari dengan cuaca buruk."
      ],
      "metadata": {
        "id": "N6ZsOTCFkb3O"
      }
    },
    {
      "cell_type": "code",
      "source": [
        "# Menghitung korelasi antara 'weathersit' dan 'cnt'\n",
        "weather_correlation = data_day['weathersit'].corr(data_day['cnt'])\n",
        "weather_correlation"
      ],
      "metadata": {
        "id": "iOJSaWSIk0sU",
        "colab": {
          "base_uri": "https://localhost:8080/"
        },
        "outputId": "d5a6dea8-e74e-4a9b-f8ae-a28b1dc1d16b"
      },
      "execution_count": 12,
      "outputs": [
        {
          "output_type": "execute_result",
          "data": {
            "text/plain": [
              "-0.2973912388346637"
            ]
          },
          "metadata": {},
          "execution_count": 12
        }
      ]
    },
    {
      "cell_type": "markdown",
      "source": [
        "Korelasi antara weathersit dan cnt adalah -0.297, yang menunjukkan hubungan negatif yang lemah hingga sedang. Artinya, ketika situasi cuaca memburuk (nilai weathersit meningkat), jumlah penyewaan sepeda cenderung menurun. Ini sesuai dengan intuisi bahwa cuaca yang lebih buruk mengurangi kemungkinan orang menyewa sepeda."
      ],
      "metadata": {
        "id": "2tkWZLyflKB9"
      }
    },
    {
      "cell_type": "code",
      "source": [
        "# Menghitung statistik deskriptif untuk setiap jam\n",
        "hourly_rentals_stats = data_hour.groupby('hr')['cnt'].describe()\n",
        "\n",
        "# Menemukan jam dengan rata-rata penyewaan tertinggi\n",
        "peak_hour = hourly_rentals_stats['mean'].idxmax()\n",
        "\n",
        "# Menampilkan statistik deskriptif untuk jam dengan rata-rata penyewaan tertinggi\n",
        "peak_hour_stats = hourly_rentals_stats.loc[peak_hour]\n",
        "\n",
        "hourly_rentals_stats, peak_hour_stats"
      ],
      "metadata": {
        "id": "uvCsPjCgPmzy",
        "colab": {
          "base_uri": "https://localhost:8080/"
        },
        "outputId": "ca046fb6-4fda-4021-b8b2-72b02db553d5"
      },
      "execution_count": 13,
      "outputs": [
        {
          "output_type": "execute_result",
          "data": {
            "text/plain": [
              "(    count        mean         std   min     25%    50%     75%    max\n",
              " hr                                                                   \n",
              " 0   726.0   53.898072   42.307910   2.0   25.00   40.0   69.00  283.0\n",
              " 1   724.0   33.375691   33.538727   1.0   11.00   20.0   42.25  168.0\n",
              " 2   715.0   22.869930   26.578642   1.0    5.00   11.0   28.50  132.0\n",
              " 3   697.0   11.727403   13.239190   1.0    3.00    6.0   15.00   79.0\n",
              " 4   697.0    6.352941    4.143818   1.0    3.00    6.0    8.00   28.0\n",
              " 5   717.0   19.889819   13.200765   1.0    8.00   19.0   29.00   66.0\n",
              " 6   725.0   76.044138   55.084348   1.0   23.00   76.0  117.00  213.0\n",
              " 7   727.0  212.064649  161.441936   1.0   55.50  208.0  332.00  596.0\n",
              " 8   727.0  359.011004  235.189285   5.0  131.50  385.0  559.50  839.0\n",
              " 9   727.0  219.309491   93.703458  14.0  155.00  216.0  293.00  426.0\n",
              " 10  727.0  173.668501  102.205413   8.0  106.00  147.0  218.00  539.0\n",
              " 11  727.0  208.143054  127.495536  10.0  123.00  180.0  256.00  663.0\n",
              " 12  728.0  253.315934  145.081134   3.0  158.00  229.0  322.25  776.0\n",
              " 13  729.0  253.661180  148.107657  11.0  154.00  224.0  322.00  760.0\n",
              " 14  729.0  240.949246  147.271574  12.0  142.00  212.0  303.00  750.0\n",
              " 15  729.0  251.233196  144.632541   7.0  151.00  227.0  324.00  750.0\n",
              " 16  730.0  311.983562  148.682618  11.0  207.25  304.5  419.00  783.0\n",
              " 17  730.0  461.452055  232.656611  15.0  262.25  475.0  604.75  976.0\n",
              " 18  728.0  425.510989  224.639304  23.0  235.00  418.5  562.25  977.0\n",
              " 19  728.0  311.523352  161.050359  11.0  174.75  309.5  414.50  743.0\n",
              " 20  728.0  226.030220  119.670164  11.0  124.00  223.5  303.25  567.0\n",
              " 21  728.0  172.314560   89.788893   6.0   95.00  173.5  233.00  584.0\n",
              " 22  728.0  131.335165   69.937782   9.0   76.00  129.0  174.00  502.0\n",
              " 23  728.0   87.831044   50.846889   2.0   50.00   80.0  121.00  256.0,\n",
              " count    730.000000\n",
              " mean     461.452055\n",
              " std      232.656611\n",
              " min       15.000000\n",
              " 25%      262.250000\n",
              " 50%      475.000000\n",
              " 75%      604.750000\n",
              " max      976.000000\n",
              " Name: 17, dtype: float64)"
            ]
          },
          "metadata": {},
          "execution_count": 13
        }
      ]
    },
    {
      "cell_type": "markdown",
      "source": [
        "Berdasarkan statistik deskriptif dari jumlah penyewaan sepeda berdasarkan jam, kita dapat melihat bahwa:\n",
        "\n",
        "- Jam dengan rata-rata penyewaan sepeda tertinggi adalah jam 17:00 (5 sore), dengan rata-rata sekitar 461 penyewaan sepeda. Standar deviasi untuk jam ini adalah sekitar 233, menunjukkan variasi yang signifikan dalam jumlah penyewaan sepeda selama jam ini di hari yang berbeda.\n",
        "- Jumlah penyewaan minimum pada jam 17:00 adalah 15, sedangkan maksimumnya adalah 976, menunjukkan adanya hari-hari dengan aktivitas penyewaan sepeda yang sangat tinggi pada jam tersebut.\n",
        "\n",
        "Identifikasi Jam Puncak:\n",
        "- Jam 17:00 menonjol sebagai jam dengan aktivitas penyewaan sepeda paling sibuk, kemungkinan besar karena bertepatan dengan jam pulang kerja, di mana banyak orang menggunakan sepeda untuk kembali ke rumah atau ke destinasi selanjutnya.\n",
        "\n",
        "Tren Harian:\n",
        "- Selain jam 17:00, jam-jam lain pada sore hari juga menunjukkan rata-rata penyewaan yang tinggi, seperti jam 18:00 dengan rata-rata sekitar 426 penyewaan sepeda. Ini menunjukkan adanya tren penyewaan sepeda yang meningkat pada sore hingga awal malam, yang kemungkinan berkaitan dengan aktivitas pulang kerja dan rekreasi sore hari."
      ],
      "metadata": {
        "id": "BzyMNLJxnbEE"
      }
    },
    {
      "cell_type": "markdown",
      "metadata": {
        "id": "zsyZjqak8DC2"
      },
      "source": [
        "## Visualization & Explanatory Analysis"
      ]
    },
    {
      "cell_type": "markdown",
      "metadata": {
        "id": "HZxOiQ6n8DC2"
      },
      "source": [
        "### Pertanyaan 1:"
      ]
    },
    {
      "cell_type": "code",
      "execution_count": 14,
      "metadata": {
        "id": "1swJUdAD8DC2",
        "colab": {
          "base_uri": "https://localhost:8080/",
          "height": 564
        },
        "outputId": "01b30785-0181-4bfe-9ecc-3575a1cd18d8"
      },
      "outputs": [
        {
          "output_type": "display_data",
          "data": {
            "text/plain": [
              "<Figure size 1000x600 with 1 Axes>"
            ],
            "image/png": "[encoded data removed]"
          },
          "metadata": {}
        }
      ],
      "source": [
        "# Visualisasi hubungan antara cuaca dan jumlah penyewaan sepeda\n",
        "plt.figure(figsize=(10, 6))\n",
        "sns.barplot(data=data_day, x='weathersit', y='cnt', errorbar=None)\n",
        "plt.title('Hubungan antara Situasi Cuaca dan Jumlah Penyewaan Sepeda')\n",
        "plt.xlabel('Situasi Cuaca (1: Cerah, 2: Mendung, 3: Hujan Ringan)')\n",
        "plt.ylabel('Jumlah Penyewaan Sepeda')\n",
        "plt.xticks(ticks=[0, 1, 2], labels=['Cerah', 'Mendung', 'Hujan Ringan'])\n",
        "plt.show()\n"
      ]
    },
    {
      "cell_type": "markdown",
      "source": [
        "Dari visualisasi di atas, kita dapat melihat hubungan antara situasi cuaca dan jumlah penyewaan sepeda. Ketika cuaca cerah (1), jumlah penyewaan sepeda cenderung lebih tinggi dibandingkan dengan kondisi mendung (2) atau hujan ringan (3). Ini menunjukkan bahwa cuaca yang lebih baik cenderung mendorong lebih banyak penyewaan sepeda."
      ],
      "metadata": {
        "id": "l-LoUwyDSXqW"
      }
    },
    {
      "cell_type": "markdown",
      "metadata": {
        "id": "DgHI7CiU8DC2"
      },
      "source": [
        "### Pertanyaan 2:"
      ]
    },
    {
      "cell_type": "code",
      "execution_count": 15,
      "metadata": {
        "id": "Go0lCsvO8DC2",
        "colab": {
          "base_uri": "https://localhost:8080/",
          "height": 568
        },
        "outputId": "050cf714-e151-4075-cd81-8b7f6d73ff1b"
      },
      "outputs": [
        {
          "output_type": "display_data",
          "data": {
            "text/plain": [
              "<Figure size 1200x600 with 1 Axes>"
            ],
            "image/png": "[encoded data removed]"
          },
          "metadata": {}
        }
      ],
      "source": [
        "# Menyiapkan data untuk visualisasi\n",
        "peak_rentals = hourly_rentals_stats['mean'].max()\n",
        "\n",
        "# Membuat visualisasi\n",
        "plt.figure(figsize=(12, 6))\n",
        "hourly_rentals_stats['mean'].plot(kind='bar', color='skyblue')\n",
        "plt.title('Rata-Rata Jumlah Penyewaan Sepeda per Jam')\n",
        "plt.xlabel('Jam')\n",
        "plt.ylabel('Rata-Rata Jumlah Penyewaan Sepeda')\n",
        "plt.axhline(y=peak_rentals, color='r', linestyle='--')\n",
        "plt.text(peak_hour, peak_rentals, f'Puncak: {peak_rentals:.0f} penyewaan', color='red', va='bottom', ha='right')\n",
        "\n",
        "plt.show()"
      ]
    },
    {
      "cell_type": "markdown",
      "source": [
        "Dari grafik, kita dapat melihat bahwa:\n",
        "\n",
        "- Jam 17:00 (5 sore) menonjol sebagai jam dengan rata-rata penyewaan sepeda tertinggi, yang sesuai dengan analisis statistik deskriptif kita. Ini menunjukkan bahwa jam 17:00 adalah waktu puncak untuk penyewaan sepeda, kemungkinan karena bertepatan dengan waktu orang banyak pulang kerja.\n",
        "- Terdapat puncak penyewaan lainnya pada jam 8 pagi, yang mungkin berkaitan dengan waktu orang berangkat kerja atau aktivitas pagi hari lainnya.\n",
        "- Penyewaan sepeda cenderung meningkat mulai dari tengah hari hingga mencapai puncak pada sore hari, menunjukkan peningkatan aktivitas penyewaan sepeda selama jam-jam tersebut."
      ],
      "metadata": {
        "id": "rJ_d2EyGRn5Q"
      }
    },
    {
      "cell_type": "markdown",
      "metadata": {
        "id": "_WeHlCeX8DC2"
      },
      "source": [
        "## Conclusion"
      ]
    },
    {
      "cell_type": "markdown",
      "metadata": {
        "id": "ZTcyR48Y8DC2"
      },
      "source": [
        "- Conclution pertanyaan 1\n",
        "\n",
        "Cuaca memiliki pengaruh yang lebih jelas dan signifikan terhadap jumlah penyewaan sepeda, dengan cuaca yang lebih baik menghasilkan jumlah penyewaan yang lebih tinggi.\n",
        "\n",
        "- Conclution pertanyaan 2\n",
        "\n",
        "Analisis menunjukkan bahwa jam 17:00 adalah waktu puncak untuk penyewaan sepeda, yang kemungkinan besar terkait dengan akhir jam kerja standar. Tren harian menunjukkan peningkatan aktivitas penyewaan sepeda pada sore hingga awal malam, yang mungkin mencerminkan kombinasi dari perjalanan pulang kerja dan aktivitas rekreasi."
      ]
    },
    {
      "cell_type": "code",
      "source": [
        "# Gabungkan data_day dan data_hour\n",
        "all_df = pd.concat([data_day, data_hour], ignore_index=True)\n",
        "\n",
        "# Pastikan kolom 'dteday' di all_df masih dalam format datetime setelah penggabungan\n",
        "all_df['dteday'] = pd.to_datetime(all_df['dteday'])\n",
        "\n",
        "# Simpan DataFrame gabungan ke CSV baru\n",
        "all_df.to_csv('/content/drive/MyDrive/Bangkit-ML/all_data_merged.csv', index=False)\n",
        "\n",
        "# Kode untuk mengunduh file CSV baru\n",
        "# Ini hanya akan bekerja di Google Colab\n",
        "from google.colab import files\n",
        "files.download('/content/drive/MyDrive/Bangkit-ML/all_data_merged.csv')\n"
      ],
      "metadata": {
        "id": "iNZITCzQ7sE0",
        "colab": {
          "base_uri": "https://localhost:8080/",
          "height": 17
        },
        "outputId": "8036fedd-c88e-49ee-caf9-21263ca1ce14"
      },
      "execution_count": 20,
      "outputs": [
        {
          "output_type": "display_data",
          "data": {
            "text/plain": [
              "<IPython.core.display.Javascript object>"
            ],
            "application/javascript": [
              "\n",
              "    async function download(id, filename, size) {\n",
              "      if (!google.colab.kernel.accessAllowed) {\n",
              "        return;\n",
              "      }\n",
              "      const div = document.createElement('div');\n",
              "      const label = document.createElement('label');\n",
              "      label.textContent = `Downloading \"${filename}\": `;\n",
              "      div.appendChild(label);\n",
              "      const progress = document.createElement('progress');\n",
              "      progress.max = size;\n",
              "      div.appendChild(progress);\n",
              "      document.body.appendChild(div);\n",
              "\n",
              "      const buffers = [];\n",
              "      let downloaded = 0;\n",
              "\n",
              "      const channel = await google.colab.kernel.comms.open(id);\n",
              "      // Send a message to notify the kernel that we're ready.\n",
              "      channel.send({})\n",
              "\n",
              "      for await (const message of channel.messages) {\n",
              "        // Send a message to notify the kernel that we're ready.\n",
              "        channel.send({})\n",
              "        if (message.buffers) {\n",
              "          for (const buffer of message.buffers) {\n",
              "            buffers.push(buffer);\n",
              "            downloaded += buffer.byteLength;\n",
              "            progress.value = downloaded;\n",
              "          }\n",
              "        }\n",
              "      }\n",
              "      const blob = new Blob(buffers, {type: 'application/binary'});\n",
              "      const a = document.createElement('a');\n",
              "      a.href = window.URL.createObjectURL(blob);\n",
              "      a.download = filename;\n",
              "      div.appendChild(a);\n",
              "      a.click();\n",
              "      div.remove();\n",
              "    }\n",
              "  "
            ]
          },
          "metadata": {}
        },
        {
          "output_type": "display_data",
          "data": {
            "text/plain": [
              "<IPython.core.display.Javascript object>"
            ],
            "application/javascript": [
              "download(\"download_0c0ed1a6-0489-40f2-98bf-d701ae68e3bd\", \"all_data_merged.csv\", 1236521)"
            ]
          },
          "metadata": {}
        }
      ]
    }
  ],
  "metadata": {
    "kernelspec": {
      "display_name": "Python 3",
      "language": "python",
      "name": "python3"
    },
    "language_info": {
      "name": "python",
      "version": "3.8.0 (tags/v3.8.0:fa919fd, Oct 14 2019, 19:21:23) [MSC v.1916 32 bit (Intel)]"
    },
    "orig_nbformat": 4,
    "vscode": {
      "interpreter": {
        "hash": "972b3bf27e332e87b5379f2791f6ef9dfc79c71018c370b0d7423235e20fe4d7"
      }
    },
    "colab": {
      "provenance": []
    }
  },
  "nbformat": 4,
  "nbformat_minor": 0
}